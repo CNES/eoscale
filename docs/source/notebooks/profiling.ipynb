{
 "cells": [
  {
   "cell_type": "markdown",
   "metadata": {},
   "source": [
    "# Profiling EOScale\n",
    "\n",
    "This notebook profile EOScale during its usage."
   ]
  },
  {
   "cell_type": "code",
   "execution_count": 1,
   "metadata": {},
   "outputs": [],
   "source": [
    "import io\n",
    "import zipfile\n",
    "from functools import reduce\n",
    "from pathlib import Path\n",
    "from typing import List\n",
    "\n",
    "import numpy as np\n",
    "import rasterio\n",
    "import requests\n",
    "from rasterio.plot import show\n",
    "\n",
    "from eoscale.core.eo_executors import n_images_to_m_images_filter\n",
    "from eoscale.core.manager import EOContextManager"
   ]
  },
  {
   "cell_type": "code",
   "execution_count": 2,
   "metadata": {},
   "outputs": [],
   "source": [
    "DATA_DIR = \"./\"  # /!\\ Change directory if you want\n",
    "OUTPUT_DIR = \"./\"  # /!\\ Change directory if you want"
   ]
  },
  {
   "cell_type": "code",
   "execution_count": 4,
   "metadata": {},
   "outputs": [],
   "source": [
    "zip_file_url = \"https://www.orfeo-toolbox.org/packages/WorkshopData/data_otb-guided-tour.zip\"\n",
    "r = requests.get(zip_file_url)\n",
    "z = zipfile.ZipFile(io.BytesIO(r.content))\n",
    "z.extractall(DATA_DIR)\n",
    "\n",
    "s2_20180621 = Path(DATA_DIR) / \"data\" / \"xt_SENTINEL2B_20180621-111349-432_L2A_T30TWT_D_V1-8_RVBPIR.tif\"\n",
    "s2_20180701 = Path(DATA_DIR) / \"data\" / \"xt_SENTINEL2B_20180701-111103-470_L2A_T30TWT_D_V1-8_RVBPIR.tif\"\n",
    "s2_20180706 = Path(DATA_DIR) / \"data\" / \"xt_SENTINEL2A_20180706-110918-241_L2A_T30TWT_D_V1-8_RVBPIR.tif\"\n",
    "s2_20180711 = Path(DATA_DIR) / \"data\" / \"xt_SENTINEL2B_20180711-111139-550_L2A_T30TWT_D_V1-8_RVBPIR.tif\""
   ]
  },
  {
   "cell_type": "code",
   "execution_count": 5,
   "metadata": {},
   "outputs": [],
   "source": [
    "def read_raster(input_image:str):\n",
    "    \"\"\"\n",
    "    \"\"\"\n",
    "    with rasterio.open(input_image) as src:\n",
    "        # get the RGB bands\n",
    "        raster_data = src.read()\n",
    "    return raster_data"
   ]
  },
  {
   "cell_type": "code",
   "execution_count": 8,
   "metadata": {},
   "outputs": [
    {
     "name": "stdout",
     "output_type": "stream",
     "text": [
      "(4, 2080, 2410)\n"
     ]
    }
   ],
   "source": [
    "s2_20180621_array = read_raster(s2_20180621)\n",
    "print(s2_20180621_array.shape)\n"
   ]
  },
  {
   "cell_type": "code",
   "execution_count": 13,
   "metadata": {},
   "outputs": [],
   "source": [
    "%timeit"
   ]
  },
  {
   "cell_type": "code",
   "execution_count": null,
   "metadata": {},
   "outputs": [],
   "source": []
  }
 ],
 "metadata": {
  "kernelspec": {
   "display_name": "Python 3 (ipykernel)",
   "language": "python",
   "name": "python3"
  },
  "language_info": {
   "codemirror_mode": {
    "name": "ipython",
    "version": 3
   },
   "file_extension": ".py",
   "mimetype": "text/x-python",
   "name": "python",
   "nbconvert_exporter": "python",
   "pygments_lexer": "ipython3",
   "version": "3.8.19"
  }
 },
 "nbformat": 4,
 "nbformat_minor": 4
}
