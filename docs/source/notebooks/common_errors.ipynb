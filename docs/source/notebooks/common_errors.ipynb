{
 "cells": [
  {
   "cell_type": "markdown",
   "metadata": {},
   "source": [
    "# Common errors\n",
    "\n",
    "This notebook lists the errors that users may encounter during their EOScale usage."
   ]
  },
  {
   "cell_type": "markdown",
   "metadata": {},
   "source": [
    "## Accessing data outside EOScale context\n",
    "\n",
    "EOScale data are only accessible inside the context manager : `EOContextManager`"
   ]
  },
  {
   "cell_type": "markdown",
   "metadata": {},
   "source": [
    "### Problematic code"
   ]
  },
  {
   "cell_type": "markdown",
   "metadata": {},
   "source": [
    "```python\n",
    "from eoscale.filters.concatenate_images import concatenate_images\n",
    "from eoscale.core.manager import EOContextManager\n",
    "\n",
    "input_image_path: str = \"../../../examples/data/dsm.tif\"\n",
    "\n",
    "with EOContextManager(nb_workers=4, tile_mode=True) as eoscale_manager:\n",
    "    concatenate_vpath = concatenate_images(eoscale_manager, [input_image_path, input_image_path])\n",
    "    arr = eoscale_manager.get_array(concatenate_vpath)\n",
    "print(arr) # try to get the array outside the EOContextManager\n",
    "```"
   ]
  },
  {
   "cell_type": "markdown",
   "metadata": {},
   "source": [
    "will result as a segmentation fault"
   ]
  },
  {
   "cell_type": "markdown",
   "metadata": {},
   "source": [
    "### Correct code"
   ]
  },
  {
   "cell_type": "code",
   "execution_count": 1,
   "metadata": {},
   "outputs": [
    {
     "name": "stderr",
     "output_type": "stream",
     "text": [
      "Concatenate processing...: 100%|████████████████████████████████████████████████████████████████████████████████████████████████████████████████████████████████████████████████████████████| 4/4 [00:00<00:00, 633.22it/s]"
     ]
    },
    {
     "name": "stdout",
     "output_type": "stream",
     "text": [
      "[[[ 96.605194  96.23185   95.92779  ... 102.59602  102.8203   102.94064 ]\n",
      "  [ 96.25583   95.99203   95.61832  ... 102.73956  103.04237  103.13515 ]\n",
      "  [ 95.88425   95.547676  95.19413  ... 102.84221  103.16673  103.41429 ]\n",
      "  ...\n",
      "  [ 88.95522   89.72472   89.92356  ... 119.50397  119.28551  118.882324]\n",
      "  [ 89.04983   89.63305   89.82265  ... 119.24495  118.877396 118.40853 ]\n",
      "  [ 89.42593   89.2541    89.31284  ... 118.72969  118.34775  117.77579 ]]\n",
      "\n",
      " [[ 96.605194  96.23185   95.92779  ... 102.59602  102.8203   102.94064 ]\n",
      "  [ 96.25583   95.99203   95.61832  ... 102.73956  103.04237  103.13515 ]\n",
      "  [ 95.88425   95.547676  95.19413  ... 102.84221  103.16673  103.41429 ]\n",
      "  ...\n",
      "  [ 88.95522   89.72472   89.92356  ... 119.50397  119.28551  118.882324]\n",
      "  [ 89.04983   89.63305   89.82265  ... 119.24495  118.877396 118.40853 ]\n",
      "  [ 89.42593   89.2541    89.31284  ... 118.72969  118.34775  117.77579 ]]]\n"
     ]
    },
    {
     "name": "stderr",
     "output_type": "stream",
     "text": [
      "\n"
     ]
    }
   ],
   "source": [
    "from eoscale.filters.concatenate_images import concatenate_images\n",
    "from eoscale.core.manager import EOContextManager\n",
    "\n",
    "input_image_path: str = \"../../../examples/data/dsm.tif\"\n",
    "\n",
    "with EOContextManager(nb_workers=4, tile_mode=True) as eoscale_manager:\n",
    "    concatenate_vpath = concatenate_images(eoscale_manager, [input_image_path, input_image_path])\n",
    "    arr = eoscale_manager.get_array(concatenate_vpath)\n",
    "    print(arr) # try to get the array inside the EOContextManager"
   ]
  },
  {
   "cell_type": "markdown",
   "metadata": {},
   "source": [
    "## Size mismatch in filters\n",
    "\n",
    "EOScale user should care about filters inputs, `image_filter` and `generate_output_profiles` output list must have the same size.\n",
    "\n",
    "### Problematic code"
   ]
  },
  {
   "cell_type": "markdown",
   "metadata": {},
   "source": [
    "```python\n",
    "from typing import List\n",
    "\n",
    "import numpy as np\n",
    "\n",
    "from eoscale.filters.concatenate_images import concatenate_images\n",
    "from eoscale.core.manager import EOContextManager\n",
    "from eoscale.core.eo_executors import n_images_to_m_images_filter\n",
    "\n",
    "def add_value(input_buffers: list,\n",
    "               input_profiles: list,\n",
    "               params: dict) -> List[np.ndarray]:\n",
    "    return [input_buffer + 2 for input_buffer in input_buffers]\n",
    "\n",
    "\n",
    "def add_profile(input_profiles: list,\n",
    "                params: dict) -> dict:\n",
    "    return input_profiles[0] # return only the first profile\n",
    "\n",
    "\n",
    "def add_filter(context: EOContextManager, inputs: List[str]):\n",
    "    \"\"\"\n",
    "    add 2 to every images\n",
    "    \"\"\"\n",
    "    return n_images_to_m_images_filter(inputs=inputs,\n",
    "                                       image_filter=add_value,\n",
    "                                       generate_output_profiles=add_profile,\n",
    "                                       context_manager=context,\n",
    "                                       filter_desc=\"Adding 2 processing...\")\n",
    "input_image_path = \"../../../examples/data/dsm.tif\"\n",
    "with EOContextManager(nb_workers = 2, tile_mode = True) as eoscale_manager:\n",
    "    keys = add_filter(eoscale_manager, [eoscale_manager.open_raster(input_image_path), eoscale_manager.open_raster(input_image_path)])\n",
    "```"
   ]
  },
  {
   "cell_type": "markdown",
   "metadata": {},
   "source": [
    "### Correct code"
   ]
  },
  {
   "cell_type": "code",
   "execution_count": 2,
   "metadata": {},
   "outputs": [
    {
     "name": "stderr",
     "output_type": "stream",
     "text": [
      "Adding 2 processing...: 100%|███████████████████████████████████████████████████████████████████████████████████████████████████████████████████████████████████████████████████████████████| 4/4 [00:00<00:00, 632.77it/s]\n"
     ]
    }
   ],
   "source": [
    "from typing import List\n",
    "\n",
    "import numpy as np\n",
    "\n",
    "from eoscale.filters.concatenate_images import concatenate_images\n",
    "from eoscale.core.manager import EOContextManager\n",
    "from eoscale.core.eo_executors import n_images_to_m_images_filter\n",
    "\n",
    "def add_value(input_buffers: list,\n",
    "               input_profiles: list,\n",
    "               params: dict) -> List[np.ndarray]:\n",
    "    return [input_buffer + 2 for input_buffer in input_buffers]\n",
    "\n",
    "\n",
    "def add_profile(input_profiles: list,\n",
    "                params: dict) -> dict:\n",
    "    return input_profiles # profile for every output remains the same\n",
    "\n",
    "\n",
    "def add_filter(context: EOContextManager, inputs: List[str]):\n",
    "    \"\"\"\n",
    "    add 2 to every images\n",
    "    \"\"\"\n",
    "    return n_images_to_m_images_filter(inputs=inputs,\n",
    "                                       image_filter=add_value,\n",
    "                                       generate_output_profiles=add_profile,\n",
    "                                       context_manager=context,\n",
    "                                       filter_desc=\"Adding 2 processing...\")\n",
    "input_image_path = \"../../../examples/data/dsm.tif\"\n",
    "with EOContextManager(nb_workers = 2, tile_mode = True) as eoscale_manager:\n",
    "    keys = add_filter(eoscale_manager, [eoscale_manager.open_raster(input_image_path), eoscale_manager.open_raster(input_image_path)])"
   ]
  },
  {
   "cell_type": "markdown",
   "metadata": {},
   "source": [
    "## Inplace operations"
   ]
  },
  {
   "cell_type": "markdown",
   "metadata": {},
   "source": [
    "### Problematic code\n",
    "\n",
    "First lets create a raster full of ones to simulate an input data."
   ]
  },
  {
   "cell_type": "code",
   "execution_count": 3,
   "metadata": {},
   "outputs": [],
   "source": [
    "import rasterio\n",
    "from rasterio.transform import Affine\n",
    "from rasterio.plot import show, show_hist\n",
    "\n",
    "def create_raster(data: np.ndarray, output_file: str):\n",
    "    top_left_x, top_left_y = 10.0, 50.0\n",
    "    x_res, y_res = 0.01, 0.01\n",
    "    transform = Affine.translation(top_left_x, top_left_y) * Affine.scale(x_res, -y_res)\n",
    "    crs = \"EPSG:4326\"\n",
    "    with rasterio.open(\n",
    "            output_file, \"w\",\n",
    "            driver=\"GTiff\",\n",
    "            height=data.shape[1],\n",
    "            width=data.shape[2],\n",
    "            count=data.shape[0],\n",
    "            dtype=data.dtype,\n",
    "            crs=crs,\n",
    "            transform=transform\n",
    "    ) as dst:\n",
    "        dst.write(data)\n",
    "        \n",
    "ones_image_path = \"../../../examples/data/ones.tif\"\n",
    "create_raster(np.ones((1, 512, 512)), ones_image_path) "
   ]
  },
  {
   "cell_type": "markdown",
   "metadata": {},
   "source": [
    "then create a filter which manipulate data inplace"
   ]
  },
  {
   "cell_type": "code",
   "execution_count": 4,
   "metadata": {},
   "outputs": [],
   "source": [
    "from typing import List\n",
    "\n",
    "import numpy as np\n",
    "\n",
    "from eoscale.core.manager import EOContextManager\n",
    "from eoscale.core.eo_executors import n_images_to_m_images_filter\n",
    "\n",
    "def add_value(input_buffers: list,\n",
    "              input_profiles: list,\n",
    "              params: dict) -> List[np.ndarray]:\n",
    "    return [np.add(input_buffer, 2, out=input_buffer) for input_buffer in input_buffers] # update input_buffer thanks to parameter 'out'\n",
    "\n",
    "\n",
    "def add_profile(input_profiles: list,\n",
    "                params: dict) -> dict:\n",
    "    return input_profiles\n",
    "                                                                                   \n",
    "                                                                                   \n",
    "def add_inplace_filter(context: EOContextManager, inputs: List[str]):\n",
    "    \"\"\"\n",
    "    add 2 to every images\n",
    "    \"\"\"\n",
    "    return n_images_to_m_images_filter(inputs=inputs,\n",
    "                                       image_filter=add_value,\n",
    "                                       generate_output_profiles=add_profile,\n",
    "                                       context_manager=context,\n",
    "                                       stable_margin=2,\n",
    "                                       filter_desc=\"Adding 2 processing...\")"
   ]
  },
  {
   "cell_type": "markdown",
   "metadata": {},
   "source": [
    "Once the filter is ready, use it inside a EOContextManager context manager and write the result next to the input and visualize it."
   ]
  },
  {
   "cell_type": "code",
   "execution_count": 5,
   "metadata": {},
   "outputs": [
    {
     "name": "stderr",
     "output_type": "stream",
     "text": [
      "Adding 2 processing...: 100%|███████████████████████████████████████████████████████████████████████████████████████████████████████████████████████████████████████████████████████████████| 4/4 [00:00<00:00, 468.86it/s]"
     ]
    },
    {
     "name": "stdout",
     "output_type": "stream",
     "text": [
      "pixel value: 3.0, occurence: 260100\n",
      "pixel value: 5.0, occurence: 2032\n",
      "pixel value: 7.0, occurence: 8\n",
      "pixel value: 9.0, occurence: 4\n"
     ]
    },
    {
     "name": "stderr",
     "output_type": "stream",
     "text": [
      "\n"
     ]
    }
   ],
   "source": [
    "def show_raster(input_image:str):\n",
    "    with rasterio.open(input_image) as src:\n",
    "        raster_data = src.read()\n",
    "        show(src, title=\"Raster Data\")\n",
    "\n",
    "add_inplace_file = \"../../../examples/data/ones_plus_2.tif\"\n",
    "\n",
    "with EOContextManager(nb_workers=3, tile_mode=True) as eoscale_manager:\n",
    "    keys = add_inplace_filter(eoscale_manager, [eoscale_manager.open_raster(ones_image_path)])\n",
    "    arr = eoscale_manager.get_array(keys[0])\n",
    "    eoscale_manager.write(keys[0], add_inplace_file)\n",
    "    unique, count = np.unique(arr, return_counts=True)\n",
    "    for pix_val, val_occurence in zip(unique, count):\n",
    "        print(f\"pixel value: {pix_val}, occurence: {val_occurence}\")\n",
    "\n"
   ]
  },
  {
   "cell_type": "markdown",
   "metadata": {},
   "source": [
    "As we can see, the table returned is not full of 3s, but also contains values in [5, 7, 9]. We can plot the resulting raster to see where these values are positioned."
   ]
  },
  {
   "cell_type": "code",
   "execution_count": 6,
   "metadata": {},
   "outputs": [
    {
     "data": {
      "image/png": "[encoded data removed]",
      "text/plain": [
       "<Figure size 640x480 with 1 Axes>"
      ]
     },
     "metadata": {},
     "output_type": "display_data"
    }
   ],
   "source": [
    "show_raster(add_inplace_file)"
   ]
  },
  {
   "cell_type": "markdown",
   "metadata": {},
   "source": [
    "We can easily guess that the anomaly values are positioned in the overlap zone between the chunks."
   ]
  },
  {
   "cell_type": "markdown",
   "metadata": {},
   "source": [
    "### Correct code"
   ]
  },
  {
   "cell_type": "code",
   "execution_count": 7,
   "metadata": {},
   "outputs": [],
   "source": [
    "from typing import List\n",
    "\n",
    "import numpy as np\n",
    "\n",
    "from eoscale.core.manager import EOContextManager\n",
    "from eoscale.core.eo_executors import n_images_to_m_images_filter\n",
    "\n",
    "def add_value(input_buffers: list,\n",
    "              input_profiles: list,\n",
    "              params: dict) -> List[np.ndarray]:\n",
    "    return [np.add(input_buffer, 2) for input_buffer in input_buffers]# here 'np.add' return a copy of input_buffer\n",
    "\n",
    "\n",
    "def add_profile(input_profiles: list,\n",
    "                params: dict) -> dict:\n",
    "    return input_profiles\n",
    "                                                                                   \n",
    "                                                                                   \n",
    "def add_inplace_filter(context: EOContextManager, inputs: List[str]):\n",
    "    \"\"\"\n",
    "    add 2 to every images\n",
    "    \"\"\"\n",
    "    return n_images_to_m_images_filter(inputs=inputs,\n",
    "                                       image_filter=add_value,\n",
    "                                       generate_output_profiles=add_profile,\n",
    "                                       context_manager=context,\n",
    "                                       stable_margin=2,\n",
    "                                       filter_desc=\"Adding 2 processing...\")"
   ]
  }
 ],
 "metadata": {
  "kernelspec": {
   "display_name": "Python 3 (ipykernel)",
   "language": "python",
   "name": "python3"
  },
  "language_info": {
   "codemirror_mode": {
    "name": "ipython",
    "version": 3
   },
   "file_extension": ".py",
   "mimetype": "text/x-python",
   "name": "python",
   "nbconvert_exporter": "python",
   "pygments_lexer": "ipython3",
   "version": "3.8.19"
  }
 },
 "nbformat": 4,
 "nbformat_minor": 4
}
